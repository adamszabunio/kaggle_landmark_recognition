{
 "cells": [
  {
   "cell_type": "code",
   "execution_count": 1,
   "metadata": {
    "collapsed": true
   },
   "outputs": [],
   "source": [
    "import matplotlib.pyplot as plt\n",
    "import numpy as np\n",
    "import os\n",
    "import pandas as pd\n",
    "from IPython.display import Image, display\n",
    "from IPython.core.display import HTML\n",
    "%matplotlib inline"
   ]
  },
  {
   "cell_type": "code",
   "execution_count": 2,
   "metadata": {
    "collapsed": false
   },
   "outputs": [
    {
     "data": {
      "text/html": [
       "<div>\n",
       "<style scoped>\n",
       "    .dataframe tbody tr th:only-of-type {\n",
       "        vertical-align: middle;\n",
       "    }\n",
       "\n",
       "    .dataframe tbody tr th {\n",
       "        vertical-align: top;\n",
       "    }\n",
       "\n",
       "    .dataframe thead th {\n",
       "        text-align: right;\n",
       "    }\n",
       "</style>\n",
       "<table border=\"1\" class=\"dataframe\">\n",
       "  <thead>\n",
       "    <tr style=\"text-align: right;\">\n",
       "      <th></th>\n",
       "      <th>id</th>\n",
       "      <th>url</th>\n",
       "      <th>landmark_id</th>\n",
       "    </tr>\n",
       "  </thead>\n",
       "  <tbody>\n",
       "    <tr>\n",
       "      <th>0</th>\n",
       "      <td>cacf8152e2d2ae60</td>\n",
       "      <td>http://static.panoramio.com/photos/original/70...</td>\n",
       "      <td>4676</td>\n",
       "    </tr>\n",
       "    <tr>\n",
       "      <th>1</th>\n",
       "      <td>0a58358a2afd3e4e</td>\n",
       "      <td>http://lh6.ggpht.com/-igpT6wu0mIA/ROV8HnUuABI/...</td>\n",
       "      <td>6651</td>\n",
       "    </tr>\n",
       "    <tr>\n",
       "      <th>2</th>\n",
       "      <td>6b2bb500b6a38aa0</td>\n",
       "      <td>http://lh6.ggpht.com/-vKr5G5MEusk/SR6r6SJi6mI/...</td>\n",
       "      <td>11284</td>\n",
       "    </tr>\n",
       "    <tr>\n",
       "      <th>3</th>\n",
       "      <td>b399f09dee9c3c67</td>\n",
       "      <td>https://lh3.googleusercontent.com/-LOW2cjAqubA...</td>\n",
       "      <td>8429</td>\n",
       "    </tr>\n",
       "    <tr>\n",
       "      <th>4</th>\n",
       "      <td>19ace29d77a5be66</td>\n",
       "      <td>https://lh5.googleusercontent.com/-tnmSXwQcWL8...</td>\n",
       "      <td>6231</td>\n",
       "    </tr>\n",
       "  </tbody>\n",
       "</table>\n",
       "</div>"
      ],
      "text/plain": [
       "                 id                                                url  \\\n",
       "0  cacf8152e2d2ae60  http://static.panoramio.com/photos/original/70...   \n",
       "1  0a58358a2afd3e4e  http://lh6.ggpht.com/-igpT6wu0mIA/ROV8HnUuABI/...   \n",
       "2  6b2bb500b6a38aa0  http://lh6.ggpht.com/-vKr5G5MEusk/SR6r6SJi6mI/...   \n",
       "3  b399f09dee9c3c67  https://lh3.googleusercontent.com/-LOW2cjAqubA...   \n",
       "4  19ace29d77a5be66  https://lh5.googleusercontent.com/-tnmSXwQcWL8...   \n",
       "\n",
       "   landmark_id  \n",
       "0         4676  \n",
       "1         6651  \n",
       "2        11284  \n",
       "3         8429  \n",
       "4         6231  "
      ]
     },
     "execution_count": 2,
     "metadata": {},
     "output_type": "execute_result"
    }
   ],
   "source": [
    "data_dir = \"../landmark_data/\"\n",
    "data_in = \"train.csv\"\n",
    "df = pd.read_csv(os.path.join(data_dir, data_in))\n",
    "\n",
    "df.head()"
   ]
  },
  {
   "cell_type": "markdown",
   "metadata": {},
   "source": [
    "### No missing data"
   ]
  },
  {
   "cell_type": "code",
   "execution_count": 3,
   "metadata": {
    "collapsed": false
   },
   "outputs": [
    {
     "name": "stdout",
     "output_type": "stream",
     "text": [
      "<class 'pandas.core.frame.DataFrame'>\n",
      "RangeIndex: 1225029 entries, 0 to 1225028\n",
      "Data columns (total 3 columns):\n",
      "id             1225029 non-null object\n",
      "url            1225029 non-null object\n",
      "landmark_id    1225029 non-null int64\n",
      "dtypes: int64(1), object(2)\n",
      "memory usage: 28.0+ MB\n"
     ]
    }
   ],
   "source": [
    "df.info()"
   ]
  },
  {
   "cell_type": "markdown",
   "metadata": {},
   "source": [
    "### Check for duplicates \n",
    "(No Duplicate IDs)"
   ]
  },
  {
   "cell_type": "code",
   "execution_count": 4,
   "metadata": {
    "collapsed": false
   },
   "outputs": [],
   "source": [
    "assert(len(set(df.id)) == df.shape[0])"
   ]
  },
  {
   "cell_type": "markdown",
   "metadata": {},
   "source": [
    "### Distribution of landmark ID's"
   ]
  },
  {
   "cell_type": "code",
   "execution_count": 5,
   "metadata": {
    "collapsed": false
   },
   "outputs": [
    {
     "data": {
      "text/plain": [
       "'Number of unique landmarks: 14951'"
      ]
     },
     "execution_count": 5,
     "metadata": {},
     "output_type": "execute_result"
    }
   ],
   "source": [
    "n_landmarks = df.landmark_id.nunique()\n",
    "\"Number of unique landmarks: {}\".format(n_landmarks)"
   ]
  },
  {
   "cell_type": "code",
   "execution_count": 6,
   "metadata": {
    "collapsed": false
   },
   "outputs": [
    {
     "data": {
      "image/png": "[encoded data removed]",
      "text/plain": [
       "<matplotlib.figure.Figure at 0x1068ccb00>"
      ]
     },
     "metadata": {},
     "output_type": "display_data"
    }
   ],
   "source": [
    "df.landmark_id.hist(bins=500, figsize=(12,8))\n",
    "plt.xlabel(\"Landmark ID\", fontsize=\"large\")\n",
    "plt.ylabel(\"Count of Images per Landmark\", fontsize=\"large\")\n",
    "plt.title(\"Distribution of Landmark IDs\", fontsize=\"large\");\n",
    "plt.savefig(\"images/landmark_dist\")"
   ]
  },
  {
   "cell_type": "markdown",
   "metadata": {},
   "source": [
    "### Above we can see, there are a small number of landmarks containing the majority of the images.\n",
    "- Below we investigate the most/least frequent landmark IDs"
   ]
  },
  {
   "cell_type": "code",
   "execution_count": 7,
   "metadata": {
    "collapsed": false
   },
   "outputs": [
    {
     "name": "stdout",
     "output_type": "stream",
     "text": [
      "Top 10 most frequent Landmark counts:\n",
      " 9633    50337\n",
      "6051    50148\n",
      "6599    23415\n",
      "9779    18471\n",
      "2061    13271\n",
      "5554    11147\n",
      "6651     9508\n",
      "6696     9222\n",
      "5376     9216\n",
      "2743     8997\n",
      "Name: landmark_id, dtype: int64\n",
      "\n",
      "Bottom 10 least frequent Landmark counts:\n",
      " 10007    1\n",
      "2683     1\n",
      "4753     1\n",
      "6261     1\n",
      "4144     1\n",
      "1527     1\n",
      "6025     1\n",
      "4334     1\n",
      "5865     1\n",
      "8381     1\n",
      "Name: landmark_id, dtype: int64\n"
     ]
    }
   ],
   "source": [
    "top10 = df.landmark_id.value_counts()[:10]\n",
    "print(\"Top 10 most frequent Landmark counts:\\n\", top10)\n",
    "print(\"\\nBottom 10 least frequent Landmark counts:\\n\", df.landmark_id.value_counts()[-10:])"
   ]
  },
  {
   "cell_type": "code",
   "execution_count": 8,
   "metadata": {
    "collapsed": false
   },
   "outputs": [
    {
     "data": {
      "text/plain": [
       "'Average number of training images per Landmark: ≈ 81.9'"
      ]
     },
     "execution_count": 8,
     "metadata": {},
     "output_type": "execute_result"
    }
   ],
   "source": [
    "\"Average number of training images per Landmark: ≈ {:.1f}\".format(np.mean(df.landmark_id.value_counts()))"
   ]
  },
  {
   "cell_type": "code",
   "execution_count": 9,
   "metadata": {
    "collapsed": false
   },
   "outputs": [
    {
     "data": {
      "text/plain": [
       "'Median of training images per Landmark: ≈ 14.0'"
      ]
     },
     "execution_count": 9,
     "metadata": {},
     "output_type": "execute_result"
    }
   ],
   "source": [
    "\"Median of training images per Landmark: ≈ {:.1f}\".format(np.median(df.landmark_id.value_counts()))"
   ]
  },
  {
   "cell_type": "code",
   "execution_count": 10,
   "metadata": {
    "collapsed": false
   },
   "outputs": [
    {
     "data": {
      "text/plain": [
       "'43.87% of Landmarks have less than 10 training images.'"
      ]
     },
     "execution_count": 10,
     "metadata": {},
     "output_type": "execute_result"
    }
   ],
   "source": [
    "n_less10 = pd.DataFrame(df.landmark_id.value_counts()).query(\"landmark_id <=10\").shape[0]\n",
    "\"{:.2f}% of Landmarks have less than 10 training images.\".format(n_less10/n_landmarks * 100)"
   ]
  },
  {
   "cell_type": "code",
   "execution_count": 11,
   "metadata": {
    "collapsed": false
   },
   "outputs": [
    {
     "data": {
      "text/plain": [
       "\"While the Top 20 most frequent landmark ID's contain 33.31% of the training images\""
      ]
     },
     "execution_count": 11,
     "metadata": {},
     "output_type": "execute_result"
    }
   ],
   "source": [
    "total, top100 = df.shape[0], df.landmark_id.value_counts()[:100].sum()\n",
    "\"While the Top 20 most frequent landmark ID's contain {:.2f}% of the training images\".format(top100/total *100)"
   ]
  },
  {
   "cell_type": "markdown",
   "metadata": {},
   "source": [
    "### Above it becomes much clearer the skewed distribution of Landmarks \n",
    "- Of the 14,951 unique Landmarks, one-third of the images fall into the top 100 most frequent Landmarks.\n",
    "- Additionally, 6,559 of the Landmarks have at most 10 images. \n",
    "- This significant class imbalance will have to be taken into consideration when training models. "
   ]
  },
  {
   "cell_type": "code",
   "execution_count": 12,
   "metadata": {
    "collapsed": false
   },
   "outputs": [],
   "source": [
    "def landmark_imgs(landmark, n_imgs=10, df=df):\n",
    "    \"\"\"\n",
    "    takes in an integer `landmark` associated with a landmark class\n",
    "    creates a list of urls of length `n_imgs`, default 10\n",
    "    from a dataframe column labeled `landmark_id`, default `df`\n",
    "    returns associated images\n",
    "    \"\"\"\n",
    "    urls = df[df.landmark_id == landmark].head(n_imgs).url.tolist()\n",
    "    style = \"height: 120px; margin: 2px; float: left; border: 1px solid black;\"\n",
    "    img_lst = ''.join([\"<img style='{}' src='{}' />\".format(style, img) for img in urls])\n",
    "    display(HTML(img_lst))"
   ]
  },
  {
   "cell_type": "code",
   "execution_count": 13,
   "metadata": {
    "collapsed": false,
    "scrolled": false
   },
   "outputs": [
    {
     "name": "stdout",
     "output_type": "stream",
     "text": [
      "Top 10 Landmarks:\n",
      "\n",
      "Landmark ID 9633:\n"
     ]
    },
    {
     "data": {
      "text/html": [
       "<img style='height: 120px; margin: 2px; float: left; border: 1px solid black;' src='https://lh4.googleusercontent.com/-tMoBJaphC34/R-ghJ_EcGCI/AAAAAAAABiw/Ug4rnSzaW-g/s1600/' /><img style='height: 120px; margin: 2px; float: left; border: 1px solid black;' src='https://lh6.googleusercontent.com/-fgwgYyYZiVI/S7pIknPBHGI/AAAAAAAABtk/7ZV3HOh3jmA/s0-d/' /><img style='height: 120px; margin: 2px; float: left; border: 1px solid black;' src='https://lh6.googleusercontent.com/-Kz7iu1q0zs0/SloIJ2I8AVI/AAAAAAAAEJI/akeGnMSqM0k/s1600/' /><img style='height: 120px; margin: 2px; float: left; border: 1px solid black;' src='https://lh3.googleusercontent.com/-dSBgHo2ZvPY/R4GHBn8fOiI/AAAAAAAAHAI/beiqbpFBdQ4/s1600/' /><img style='height: 120px; margin: 2px; float: left; border: 1px solid black;' src='https://lh5.googleusercontent.com/-Mww2sF21QPs/RyCsE0Od4oI/AAAAAAAAA8o/gx2LpETjz5M/s1600/' /><img style='height: 120px; margin: 2px; float: left; border: 1px solid black;' src='http://lh4.ggpht.com/-1IXX3I0zB6A/S0JZGuRv6WI/AAAAAAAAA3A/wsFERp7eh1o/s1600/' /><img style='height: 120px; margin: 2px; float: left; border: 1px solid black;' src='https://lh6.googleusercontent.com/-S-UYSsIZMtk/S82859J5K0I/AAAAAAAAGOI/xqlYZE7Hxjo/rj/' /><img style='height: 120px; margin: 2px; float: left; border: 1px solid black;' src='https://lh5.googleusercontent.com/-AXDnUkrpf7Q/TwWX933UM5I/AAAAAAABnq8/SusL3oTFjIo/s1600/' /><img style='height: 120px; margin: 2px; float: left; border: 1px solid black;' src='http://static.panoramio.com/photos/original/64791644.jpg' /><img style='height: 120px; margin: 2px; float: left; border: 1px solid black;' src='https://lh5.googleusercontent.com/-7aWoYnKB2gU/Sir7WDMKIOI/AAAAAAAAAQ8/hOfZSax6_po/s1600/' />"
      ],
      "text/plain": [
       "<IPython.core.display.HTML object>"
      ]
     },
     "metadata": {},
     "output_type": "display_data"
    },
    {
     "name": "stdout",
     "output_type": "stream",
     "text": [
      "------------------------------------------------------------------------------------------\n",
      "\n",
      "Landmark ID 6051:\n"
     ]
    },
    {
     "data": {
      "text/html": [
       "<img style='height: 120px; margin: 2px; float: left; border: 1px solid black;' src='http://lh3.ggpht.com/-KXyELwqwp_Q/Ry-qmQAqwUI/AAAAAAAAAoU/SUt6osy86xk/s1600/' /><img style='height: 120px; margin: 2px; float: left; border: 1px solid black;' src='http://lh3.ggpht.com/-GtgCG7ZNNDw/TWWRUVMMpUI/AAAAAAAAC00/AUNX8bd957w/s1600/' /><img style='height: 120px; margin: 2px; float: left; border: 1px solid black;' src='http://lh6.ggpht.com/-Xc0B_C_xpfc/RsIor9h8-SI/AAAAAAAABK0/d6gJYx06eKI/s1600/' /><img style='height: 120px; margin: 2px; float: left; border: 1px solid black;' src='https://lh3.googleusercontent.com/-r7w0c7chrC8/TKvJKIyP-yI/AAAAAAAAAbE/G1GYmt5t-bg/s1600/' /><img style='height: 120px; margin: 2px; float: left; border: 1px solid black;' src='https://lh6.googleusercontent.com/-WWD-eozFRkU/THaxcSSu-BI/AAAAAAAANfQ/T4H7_pXuo0A/s1600/' /><img style='height: 120px; margin: 2px; float: left; border: 1px solid black;' src='https://lh6.googleusercontent.com/-tS_G0hIy5ZM/UET8pv2HO-I/AAAAAAAACbg/aafiTJOLbHY/s1600/' /><img style='height: 120px; margin: 2px; float: left; border: 1px solid black;' src='https://lh3.googleusercontent.com/-KY-7GtTdyFA/TCoXGPxA43I/AAAAAAAADXM/0AGVLHttPLM/s1600/' /><img style='height: 120px; margin: 2px; float: left; border: 1px solid black;' src='http://lh4.ggpht.com/-iRvdpDyW0tY/Tf3VuockwVI/AAAAAAAAFg0/Wwe9BLrErws/s1600/' /><img style='height: 120px; margin: 2px; float: left; border: 1px solid black;' src='http://lh4.ggpht.com/-jEA3kfsNXaE/SZDM8CJHrOI/AAAAAAAAIyk/ZrUd2HScqBA/s1600/' /><img style='height: 120px; margin: 2px; float: left; border: 1px solid black;' src='http://lh6.ggpht.com/-aYkjNY6AI_E/SAoS68XMFDI/AAAAAAAABGM/akbenfEDB6k/s1600/' />"
      ],
      "text/plain": [
       "<IPython.core.display.HTML object>"
      ]
     },
     "metadata": {},
     "output_type": "display_data"
    },
    {
     "name": "stdout",
     "output_type": "stream",
     "text": [
      "------------------------------------------------------------------------------------------\n",
      "\n",
      "Landmark ID 6599:\n"
     ]
    },
    {
     "data": {
      "text/html": [
       "<img style='height: 120px; margin: 2px; float: left; border: 1px solid black;' src='https://lh4.googleusercontent.com/-FyOb5-Gcr0w/RtHTeFsqTmI/AAAAAAAAATQ/87SnhEf1qPs/rj/' /><img style='height: 120px; margin: 2px; float: left; border: 1px solid black;' src='https://lh3.googleusercontent.com/-5YMebjnziuE/S28CUIvPCtI/AAAAAAAAAYo/WvdsPdzKwek/s1600/' /><img style='height: 120px; margin: 2px; float: left; border: 1px solid black;' src='http://lh4.ggpht.com/-LAV-AsnT5qY/S2-yzeNvHWI/AAAAAAAAYLM/8nbulMps3-I/s1600/' /><img style='height: 120px; margin: 2px; float: left; border: 1px solid black;' src='https://lh5.googleusercontent.com/-1X_5_lAqZUk/RW5A_eGBABI/AAAAAAAABHs/iO72_sM2xZw/rj/' /><img style='height: 120px; margin: 2px; float: left; border: 1px solid black;' src='http://lh5.ggpht.com/-28OeI3FRQ6c/TdLLJ8TD_SI/AAAAAAAADlU/OwU2Nfbw7hY/s1600/' /><img style='height: 120px; margin: 2px; float: left; border: 1px solid black;' src='https://lh6.googleusercontent.com/-jubJXlwqtWA/SsBGBjSXLYI/AAAAAAAADjk/MO4NScnSmRU/s1600/' /><img style='height: 120px; margin: 2px; float: left; border: 1px solid black;' src='https://lh3.googleusercontent.com/-g-ish4mh-jQ/UHudx1wcs1I/AAAAAAAAALY/o_C4ePTN7Ww/s1600/' /><img style='height: 120px; margin: 2px; float: left; border: 1px solid black;' src='https://lh4.googleusercontent.com/-R12bnHNNPbM/R1npa5jnuXI/AAAAAAAABX4/BeVx_ObpVcI/rj/' /><img style='height: 120px; margin: 2px; float: left; border: 1px solid black;' src='http://lh6.ggpht.com/-yAO2-ESNYTw/Rn-nzgn4kfI/AAAAAAAABUg/wtYGcQzWw2E/s1600/' /><img style='height: 120px; margin: 2px; float: left; border: 1px solid black;' src='https://lh6.googleusercontent.com/-RT8KT74Icno/UJCIjQL8flI/AAAAAAAAADE/O5Jd9refdfs/s1600/' />"
      ],
      "text/plain": [
       "<IPython.core.display.HTML object>"
      ]
     },
     "metadata": {},
     "output_type": "display_data"
    },
    {
     "name": "stdout",
     "output_type": "stream",
     "text": [
      "------------------------------------------------------------------------------------------\n",
      "\n",
      "Landmark ID 9779:\n"
     ]
    },
    {
     "data": {
      "text/html": [
       "<img style='height: 120px; margin: 2px; float: left; border: 1px solid black;' src='http://lh6.ggpht.com/-cJMh9AYQGk8/SOkF_Q5PrjI/AAAAAAAACa4/YWapKF6Wwuo/s1600/' /><img style='height: 120px; margin: 2px; float: left; border: 1px solid black;' src='https://lh6.googleusercontent.com/-Igkby7pShwQ/UJBVX-fe_1I/AAAAAAAAIi8/-I_ToGTrO7M/s1600/' /><img style='height: 120px; margin: 2px; float: left; border: 1px solid black;' src='http://lh4.ggpht.com/-ZlBjh7XFBew/SO4S3WlsMwI/AAAAAAAABL0/85EPQlZ_kag/s1600/' /><img style='height: 120px; margin: 2px; float: left; border: 1px solid black;' src='https://lh5.googleusercontent.com/-n2d_Lwqp0Uw/TkzWqcGXRbI/AAAAAAAAmm8/SGlxXfRln4c/s1600/' /><img style='height: 120px; margin: 2px; float: left; border: 1px solid black;' src='http://lh6.ggpht.com/-ZJZZNMwjzTk/R4YYX9LY_1I/AAAAAAAAELk/6b7OEVBpf4c/s1600/' /><img style='height: 120px; margin: 2px; float: left; border: 1px solid black;' src='http://lh4.ggpht.com/-iX5t0uzHcNo/TSBqR8Y0X1I/AAAAAAAADsw/zk5rZSeDVVQ/s1600/' /><img style='height: 120px; margin: 2px; float: left; border: 1px solid black;' src='http://lh6.ggpht.com/-OuBNgRpF4TI/TmhgbtzjgrI/AAAAAAAAGZk/M80gJcC28JY/s1600/' /><img style='height: 120px; margin: 2px; float: left; border: 1px solid black;' src='http://lh6.ggpht.com/-rn1alRZiDmQ/RlbB70f0p1I/AAAAAAAAAX0/3lhJrMRHjGc/s1600/' /><img style='height: 120px; margin: 2px; float: left; border: 1px solid black;' src='https://lh4.googleusercontent.com/-qBSe42_56_U/Sawbsd7qpwI/AAAAAAAACzA/LG9vQoDc9w4/s1600/' /><img style='height: 120px; margin: 2px; float: left; border: 1px solid black;' src='https://lh6.googleusercontent.com/-8d_ZNkvBZiM/StB-AKflfGI/AAAAAAAAATs/wQxwVCGatu4/s1600/' />"
      ],
      "text/plain": [
       "<IPython.core.display.HTML object>"
      ]
     },
     "metadata": {},
     "output_type": "display_data"
    },
    {
     "name": "stdout",
     "output_type": "stream",
     "text": [
      "------------------------------------------------------------------------------------------\n",
      "\n",
      "Landmark ID 2061:\n"
     ]
    },
    {
     "data": {
      "text/html": [
       "<img style='height: 120px; margin: 2px; float: left; border: 1px solid black;' src='https://lh6.googleusercontent.com/-Rce5yTZScTw/S-QOcJyx0QI/AAAAAAAACb4/OXZeSkTXKUI/s1600/' /><img style='height: 120px; margin: 2px; float: left; border: 1px solid black;' src='http://lh6.ggpht.com/-Cjz-UMi4O3s/TBMw9tRQVRI/AAAAAAAAI_I/kHsCbr875ao/s1600/' /><img style='height: 120px; margin: 2px; float: left; border: 1px solid black;' src='http://lh6.ggpht.com/-tRyWn7-lRnI/SoEprFukckI/AAAAAAAAHMA/3EgpN0itwjU/s1600/' /><img style='height: 120px; margin: 2px; float: left; border: 1px solid black;' src='http://lh6.ggpht.com/-c_wZ4JrL1lY/TnhGXwqSIKI/AAAAAAAAEt0/lCQnfMK0ff8/s1600/' /><img style='height: 120px; margin: 2px; float: left; border: 1px solid black;' src='https://lh6.googleusercontent.com/-zTY3R363k1k/RuZDyC0XqbI/AAAAAAAAAE4/TgGUHAeEYGw/rj/' /><img style='height: 120px; margin: 2px; float: left; border: 1px solid black;' src='https://lh3.googleusercontent.com/-sbgEY37u97Y/SJyWMPyib-I/AAAAAAAABag/T0hEd79vNPw/s1600/' /><img style='height: 120px; margin: 2px; float: left; border: 1px solid black;' src='http://lh3.ggpht.com/-v9yj_XAWOjg/Rj0BRpbb3tI/AAAAAAAABYI/H7tRHAnTgSE/s1600/' /><img style='height: 120px; margin: 2px; float: left; border: 1px solid black;' src='https://lh3.googleusercontent.com/-NNLlSUYfrm4/UXg1ZhsQD5I/AAAAAAAAPDw/1LlTi5051OE/s1600/' /><img style='height: 120px; margin: 2px; float: left; border: 1px solid black;' src='https://lh5.googleusercontent.com/-Kp76BaeRBMs/ST7s4_HDX6I/AAAAAAAAEB0/QxofndpWQss/s1600/' /><img style='height: 120px; margin: 2px; float: left; border: 1px solid black;' src='https://lh3.googleusercontent.com/-WD4ODj_6IwA/TY9-l7rwQ4I/AAAAAAAAS_s/sJW_0rhuGR4/s1600/' />"
      ],
      "text/plain": [
       "<IPython.core.display.HTML object>"
      ]
     },
     "metadata": {},
     "output_type": "display_data"
    },
    {
     "name": "stdout",
     "output_type": "stream",
     "text": [
      "------------------------------------------------------------------------------------------\n",
      "\n",
      "Landmark ID 5554:\n"
     ]
    },
    {
     "data": {
      "text/html": [
       "<img style='height: 120px; margin: 2px; float: left; border: 1px solid black;' src='https://lh3.googleusercontent.com/-EpNtXQntMr0/TEBZNbQVRSI/AAAAAAAAAEM/uWSSD4_7TeA/s1600/' /><img style='height: 120px; margin: 2px; float: left; border: 1px solid black;' src='http://lh5.ggpht.com/-6Wmb6BhrgBA/RYblKeg9KwI/AAAAAAAABl4/PWvTvwiHwGw/s1600/' /><img style='height: 120px; margin: 2px; float: left; border: 1px solid black;' src='https://lh5.googleusercontent.com/-odJcL7Yisno/SIGXefDmX3I/AAAAAAAAAVk/hyzxGJZ-kbo/s1600/' /><img style='height: 120px; margin: 2px; float: left; border: 1px solid black;' src='http://lh4.ggpht.com/-O3g8YoEouW0/Sru6bx818zI/AAAAAAAAF04/Q1uyrne5T1E/s1600/' /><img style='height: 120px; margin: 2px; float: left; border: 1px solid black;' src='http://lh6.ggpht.com/-amq8SzD5TvI/SvosmRqKHFI/AAAAAAAAAJw/MHAVt2TBKXo/s1600/' /><img style='height: 120px; margin: 2px; float: left; border: 1px solid black;' src='https://lh6.googleusercontent.com/-SWKFGslUrMU/S4_Iq0oL45I/AAAAAAAABTg/pjyngCpPc1w/s1600/' /><img style='height: 120px; margin: 2px; float: left; border: 1px solid black;' src='http://lh5.ggpht.com/-zMzoWUhpX_k/TrqWpYVRVzI/AAAAAAAAAQc/nsKpveiRWn4/s1600/' /><img style='height: 120px; margin: 2px; float: left; border: 1px solid black;' src='https://lh6.googleusercontent.com/-ae_UPhdDKtQ/SsCyZ_qSwzI/AAAAAAAAB2g/IiONicNWCe0/s1600/' /><img style='height: 120px; margin: 2px; float: left; border: 1px solid black;' src='http://lh5.ggpht.com/-Ljgz8iSVWQ8/SnxZv2iN-pI/AAAAAAAABKo/DHUbNk9vJ_o/s1600/' /><img style='height: 120px; margin: 2px; float: left; border: 1px solid black;' src='https://lh5.googleusercontent.com/-3uEcnge6L0Q/TL_9cXOMVgI/AAAAAAAAAFg/Rd3843Yq0Ko/s1600/' />"
      ],
      "text/plain": [
       "<IPython.core.display.HTML object>"
      ]
     },
     "metadata": {},
     "output_type": "display_data"
    },
    {
     "name": "stdout",
     "output_type": "stream",
     "text": [
      "------------------------------------------------------------------------------------------\n",
      "\n",
      "Landmark ID 6651:\n"
     ]
    },
    {
     "data": {
      "text/html": [
       "<img style='height: 120px; margin: 2px; float: left; border: 1px solid black;' src='http://lh6.ggpht.com/-igpT6wu0mIA/ROV8HnUuABI/AAAAAAAAAE4/cDiNGkoQX88/s1600/' /><img style='height: 120px; margin: 2px; float: left; border: 1px solid black;' src='http://lh5.ggpht.com/-T-qplbGDyok/TkhuFvYiRzI/AAAAAAAAhe0/8uEoyh2Vzc0/s1600/' /><img style='height: 120px; margin: 2px; float: left; border: 1px solid black;' src='http://lh5.ggpht.com/-q5vUAljOPqE/SUCp0aZfHSI/AAAAAAAAHSc/YnpJCcQUq-w/s1600/' /><img style='height: 120px; margin: 2px; float: left; border: 1px solid black;' src='https://lh5.googleusercontent.com/-pgfRzfPoPII/SmWAVUwuzcI/AAAAAAAABRA/9i9NalfMANk/s1600/' /><img style='height: 120px; margin: 2px; float: left; border: 1px solid black;' src='http://lh3.ggpht.com/-x-YNLbcZpBA/SMbTBGiw9aI/AAAAAAAAFrM/oJw0AlAX7bo/s1600/' /><img style='height: 120px; margin: 2px; float: left; border: 1px solid black;' src='https://lh4.googleusercontent.com/-YJ352Qg-WWk/Rr7qNpFPklI/AAAAAAAAClg/pmxD9Bhe4CM/s1600/' /><img style='height: 120px; margin: 2px; float: left; border: 1px solid black;' src='https://lh3.googleusercontent.com/-SbDsldjxZhs/SIuh1a_evtI/AAAAAAAAAXA/S0542-WSDFs/rj/' /><img style='height: 120px; margin: 2px; float: left; border: 1px solid black;' src='https://lh6.googleusercontent.com/-yZqKn2nMsPU/R-6X-s29iKI/AAAAAAAACEo/BLfrT_fRRAI/s1600/' /><img style='height: 120px; margin: 2px; float: left; border: 1px solid black;' src='https://lh6.googleusercontent.com/-RrgvUKb7ClU/T6DEWW9UuBI/AAAAAAAAC_0/c-AQYiY5Gjw/s1600/' /><img style='height: 120px; margin: 2px; float: left; border: 1px solid black;' src='http://lh5.ggpht.com/-1bqKWoLdJ54/S-CHCsoi1DI/AAAAAAAADSk/JUTk4zWGaXc/s1600/' />"
      ],
      "text/plain": [
       "<IPython.core.display.HTML object>"
      ]
     },
     "metadata": {},
     "output_type": "display_data"
    },
    {
     "name": "stdout",
     "output_type": "stream",
     "text": [
      "------------------------------------------------------------------------------------------\n",
      "\n",
      "Landmark ID 6696:\n"
     ]
    },
    {
     "data": {
      "text/html": [
       "<img style='height: 120px; margin: 2px; float: left; border: 1px solid black;' src='https://lh6.googleusercontent.com/-rIptdH2ywdg/SRtYJVUtK3I/AAAAAAAAAoE/rmLcVUkiOWU/s1600/' /><img style='height: 120px; margin: 2px; float: left; border: 1px solid black;' src='https://lh4.googleusercontent.com/-QKnuHjsNfQc/TbAFUP8bf4I/AAAAAAAAOeM/tT3oAtGHXVA/s1600/' /><img style='height: 120px; margin: 2px; float: left; border: 1px solid black;' src='http://lh4.ggpht.com/-t4sOsx-d38k/TL3ADtMoxxI/AAAAAAAABFU/bQBFYay-Mas/s1600/' /><img style='height: 120px; margin: 2px; float: left; border: 1px solid black;' src='https://lh6.googleusercontent.com/-oDFEra0RC3M/RfW_hIZEm2I/AAAAAAAABQE/Yxn4v_ilWE0/s1600/' /><img style='height: 120px; margin: 2px; float: left; border: 1px solid black;' src='https://lh4.googleusercontent.com/-56RoV7t4O5g/TBfR-nfirTI/AAAAAAAAlbU/v5e5KF5QYRI/s1600/' /><img style='height: 120px; margin: 2px; float: left; border: 1px solid black;' src='https://lh5.googleusercontent.com/-7gLNr8zoMOE/TvtH5fFUuUI/AAAAAAAAAMI/L8_xQvT19uE/s1600/' /><img style='height: 120px; margin: 2px; float: left; border: 1px solid black;' src='https://lh6.googleusercontent.com/-eA9sG2R-H6E/S-118UtnWfI/AAAAAAAAMic/-el2oKVXyks/s1600/' /><img style='height: 120px; margin: 2px; float: left; border: 1px solid black;' src='https://lh3.googleusercontent.com/-Pe8Jl29GzOE/RqLDp7XRcwI/AAAAAAAABTg/ZVocVA3ZGDI/s1600/' /><img style='height: 120px; margin: 2px; float: left; border: 1px solid black;' src='http://lh3.ggpht.com/-FaWBhep49N4/SIxqSnZI-PI/AAAAAAAAEQM/URgTAgm6jqg/s1600/' /><img style='height: 120px; margin: 2px; float: left; border: 1px solid black;' src='https://lh5.googleusercontent.com/-HSYJGPY9hG8/TpxZyIMUt8I/AAAAAAAABj4/UFbb4a3ZG0I/s1600/' />"
      ],
      "text/plain": [
       "<IPython.core.display.HTML object>"
      ]
     },
     "metadata": {},
     "output_type": "display_data"
    },
    {
     "name": "stdout",
     "output_type": "stream",
     "text": [
      "------------------------------------------------------------------------------------------\n",
      "\n",
      "Landmark ID 5376:\n"
     ]
    },
    {
     "data": {
      "text/html": [
       "<img style='height: 120px; margin: 2px; float: left; border: 1px solid black;' src='http://mw2.google.com/mw-panoramio/photos/thumbnail/66223644.jpg' /><img style='height: 120px; margin: 2px; float: left; border: 1px solid black;' src='https://lh5.googleusercontent.com/-t4_lOgu-W0Q/TUm05bVe4QI/AAAAAAAABPU/_qej-a9XjnE/s1600/' /><img style='height: 120px; margin: 2px; float: left; border: 1px solid black;' src='https://lh6.googleusercontent.com/-gKIgRB1g9m4/TEQl9BUdbQI/AAAAAAAA1fI/MzQjfQv_SJI/s1600/' /><img style='height: 120px; margin: 2px; float: left; border: 1px solid black;' src='https://lh4.googleusercontent.com/-iXCvDWW1UqY/TIcqOIKwY3I/AAAAAAAAF-Y/yXFxqEMRaEw/s1600/' /><img style='height: 120px; margin: 2px; float: left; border: 1px solid black;' src='https://lh4.googleusercontent.com/-iZ44R7H_EqE/S9gkOJXbztI/AAAAAAAAA1M/woZ-8QvD9fI/s1600/' /><img style='height: 120px; margin: 2px; float: left; border: 1px solid black;' src='http://lh6.ggpht.com/-jftlDgRu04g/TEpEyh9tgmI/AAAAAAAAEMg/KXlJ4m2jJcM/s1600/' /><img style='height: 120px; margin: 2px; float: left; border: 1px solid black;' src='http://lh3.ggpht.com/-fOcPCT-Y-qc/SMliZS-QpDI/AAAAAAAAA1U/OJaW26mce8E/s1600/' /><img style='height: 120px; margin: 2px; float: left; border: 1px solid black;' src='http://mw2.google.com/mw-panoramio/photos/medium/54459424.jpg' /><img style='height: 120px; margin: 2px; float: left; border: 1px solid black;' src='http://lh3.ggpht.com/-gpGZsCONStk/T55h2Vy3q9I/AAAAAAAAYSg/VdDF7aJu52A/s1600/' /><img style='height: 120px; margin: 2px; float: left; border: 1px solid black;' src='https://lh5.googleusercontent.com/-L-RZCn-rhLs/Sqi9BOLA54I/AAAAAAAAA9I/2EvGKKBoMkY/s1600/' />"
      ],
      "text/plain": [
       "<IPython.core.display.HTML object>"
      ]
     },
     "metadata": {},
     "output_type": "display_data"
    },
    {
     "name": "stdout",
     "output_type": "stream",
     "text": [
      "------------------------------------------------------------------------------------------\n",
      "\n",
      "Landmark ID 2743:\n"
     ]
    },
    {
     "data": {
      "text/html": [
       "<img style='height: 120px; margin: 2px; float: left; border: 1px solid black;' src='http://lh4.ggpht.com/-m0WQj_3hYm8/S97hjgI_iMI/AAAAAAAAAKc/1QjgPmVq9do/s1600/' /><img style='height: 120px; margin: 2px; float: left; border: 1px solid black;' src='https://lh4.googleusercontent.com/-ty1VVWbif5g/S50mdUtp79I/AAAAAAAABrs/OKGyELTowWo/s1600/' /><img style='height: 120px; margin: 2px; float: left; border: 1px solid black;' src='https://lh5.googleusercontent.com/-XiHb4mh2BC8/TisAaJaNp3I/AAAAAAAAAN0/-SkAIb_VfJU/s1600/' /><img style='height: 120px; margin: 2px; float: left; border: 1px solid black;' src='https://lh3.googleusercontent.com/-9ddkF4H_ZjM/T1Udxhk3CGI/AAAAAAAAAq4/-5n8biy25RA/s1600/' /><img style='height: 120px; margin: 2px; float: left; border: 1px solid black;' src='http://lh5.ggpht.com/-68_BG838aHU/SI9pIjczShI/AAAAAAAAAFs/k0QfFj3sa9E/s1600/' /><img style='height: 120px; margin: 2px; float: left; border: 1px solid black;' src='http://lh3.ggpht.com/-nNsBeZWs4wU/R0ICbr8qjoI/AAAAAAAAAIM/BBbg1fUjriU/s1600/' /><img style='height: 120px; margin: 2px; float: left; border: 1px solid black;' src='https://lh4.googleusercontent.com/-eFODKwoDTs0/TrSImXyGQNI/AAAAAAAABzg/syefIFx2lvI/s1600/' /><img style='height: 120px; margin: 2px; float: left; border: 1px solid black;' src='https://lh6.googleusercontent.com/-kqp-9uPhcO8/TmcyLLmOlsI/AAAAAAABbDw/LlQ2HHyUJag/s1600/' /><img style='height: 120px; margin: 2px; float: left; border: 1px solid black;' src='https://lh4.googleusercontent.com/-mtjZ8izz_vg/TZeRIN_skHI/AAAAAAAABp0/kTw1Sud3OCM/s1600/' /><img style='height: 120px; margin: 2px; float: left; border: 1px solid black;' src='http://lh3.ggpht.com/-CzGJYrpTlPQ/RpTtOsnIaHI/AAAAAAAAAuc/eqGG-Zb7v5E/s1600/' />"
      ],
      "text/plain": [
       "<IPython.core.display.HTML object>"
      ]
     },
     "metadata": {},
     "output_type": "display_data"
    },
    {
     "name": "stdout",
     "output_type": "stream",
     "text": [
      "------------------------------------------------------------------------------------------\n",
      "\n"
     ]
    }
   ],
   "source": [
    "print(\"Top 10 Landmarks:\\n\")\n",
    "for l_id in top10.keys().tolist():\n",
    "    print(\"Landmark ID {}:\".format(l_id))\n",
    "    landmark_imgs(l_id)\n",
    "    print(\"-\"*90 + \"\\n\")"
   ]
  },
  {
   "cell_type": "markdown",
   "metadata": {},
   "source": [
    "### Familiar with quite a few of the places, however something else stands out: \n",
    "### The 7th image of Landmark ID 5376 is MISSING"
   ]
  },
  {
   "cell_type": "code",
   "execution_count": 14,
   "metadata": {
    "collapsed": false
   },
   "outputs": [
    {
     "data": {
      "text/html": [
       "<img src=\"http://lh3.ggpht.com/-fOcPCT-Y-qc/SMliZS-QpDI/AAAAAAAAA1U/OJaW26mce8E/s1600/\"/>"
      ],
      "text/plain": [
       "<IPython.core.display.Image object>"
      ]
     },
     "execution_count": 14,
     "metadata": {},
     "output_type": "execute_result"
    }
   ],
   "source": [
    "Image(url=df[df.landmark_id == 5376].iloc[6].url)"
   ]
  },
  {
   "cell_type": "markdown",
   "metadata": {},
   "source": [
    "___"
   ]
  }
 ],
 "metadata": {
  "kernelspec": {
   "display_name": "Python [default]",
   "language": "python",
   "name": "python3"
  },
  "language_info": {
   "codemirror_mode": {
    "name": "ipython",
    "version": 3
   },
   "file_extension": ".py",
   "mimetype": "text/x-python",
   "name": "python",
   "nbconvert_exporter": "python",
   "pygments_lexer": "ipython3",
   "version": "3.6.0"
  }
 },
 "nbformat": 4,
 "nbformat_minor": 2
}
